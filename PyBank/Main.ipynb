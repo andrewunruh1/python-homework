{
 "cells": [
  {
   "cell_type": "code",
   "execution_count": 2,
   "metadata": {},
   "outputs": [
    {
     "name": "stdout",
     "output_type": "stream",
     "text": [
      "Financial Analysis\n",
      "-----------------\n",
      "Total Months: 86\n",
      "Total: $38382578\n",
      "Average Change: $-2315.12\n",
      "Greatest Increase in Profits: Feb-2012 ($1926159)\n",
      "Greatest Decrease in Profits: Sep-2013 ($-2196167)\n"
     ]
    }
   ],
   "source": [
    "import pandas as pd\n",
    "from pathlib import Path\n",
    "import csv\n",
    "\n",
    "csvpath = (\"budget_data.csv\")\n",
    "\n",
    "months = []\n",
    "profits = []\n",
    "\n",
    "with open(csvpath, \"r\") as csvfile:\n",
    "\n",
    "    csvreader = csv.reader(csvfile)\n",
    "\n",
    "    csv_header = next(csvreader)\n",
    "    for row in csvreader:\n",
    "        months.append(row[0])\n",
    "        profits.append(float(row[1]))\n",
    "\n",
    "count = 1\n",
    "greatest_increase_index = 1\n",
    "greatest_decrease_index  = 1\n",
    "greatest_increase = 0.0\n",
    "greatest_decrease = 0.0\n",
    "change_in_profit = 0.0\n",
    "total_change_in_profit = 0.0\n",
    "\n",
    "while count < (len(profits)):\n",
    "    \n",
    "    change_in_profit = (profits[count] - profits[count - 1])\n",
    "    total_change_in_profit += change_in_profit\n",
    "    \n",
    "    if  change_in_profit > greatest_increase:\n",
    "        greatest_increase = change_in_profit\n",
    "        greatest_increase_index = count\n",
    "    elif change_in_profit < greatest_decrease:\n",
    "        greatest_decrease = change_in_profit\n",
    "        greatest_decrease_index = count\n",
    "    \n",
    "    count +=1\n",
    "\n",
    "print(\"Financial Analysis\")\n",
    "print(\"-----------------\")\n",
    "print(f\"Total Months: {count}\")\n",
    "print(f\"Total: ${int(sum(profits))}\")\n",
    "print(f\"Average Change: ${round(total_change_in_profit/(count - 1),2)}\")\n",
    "print(f\"Greatest Increase in Profits: {months[greatest_increase_index]} (${round(greatest_increase)})\")\n",
    "print(f\"Greatest Decrease in Profits: {months[greatest_decrease_index]} (${round(greatest_decrease)})\")\n",
    "\n",
    "output_path = 'PyBank.txt'\n",
    "\n",
    "with open(output_path, 'w') as file:\n",
    "    file.write(\"Financial Analysis\\n\")\n",
    "    file.write(\"----------------------------\\n\")\n",
    "    file.write(f\"Total Months: {count}\\n\")\n",
    "    file.write(f\"Total: ${int(sum(profits))}\\n\")\n",
    "    file.write(f\"Average Change: ${round(total_change_in_profit/(count - 1),2)}\\n\")\n",
    "    file.write(f\"Greatest Increase in Profits: {months[greatest_increase_index]} (${round(greatest_increase)})\\n\")\n",
    "    file.write(f\"Greatest Decrease in Profits: {months[greatest_decrease_index]} (${round(greatest_decrease)})\\n\")\n"
   ]
  },
  {
   "cell_type": "code",
   "execution_count": null,
   "metadata": {},
   "outputs": [],
   "source": []
  }
 ],
 "metadata": {
  "kernelspec": {
   "display_name": "Python 3",
   "language": "python",
   "name": "python3"
  },
  "language_info": {
   "codemirror_mode": {
    "name": "ipython",
    "version": 3
   },
   "file_extension": ".py",
   "mimetype": "text/x-python",
   "name": "python",
   "nbconvert_exporter": "python",
   "pygments_lexer": "ipython3",
   "version": "3.8.5"
  }
 },
 "nbformat": 4,
 "nbformat_minor": 4
}
